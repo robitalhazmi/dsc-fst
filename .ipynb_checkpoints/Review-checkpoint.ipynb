{
 "cells": [
  {
   "cell_type": "markdown",
   "metadata": {},
   "source": [
    "# Review if else"
   ]
  },
  {
   "cell_type": "code",
   "execution_count": 47,
   "metadata": {},
   "outputs": [],
   "source": [
    "def bilangan(bil):\n",
    "    if bil == 1:\n",
    "        return \"Satu\"\n",
    "    elif bil == 2:\n",
    "        return \"Dua\"\n",
    "    elif bil == 3:\n",
    "        return \"Tiga\"\n",
    "    elif bil == 4:\n",
    "        return \"Empat\"\n",
    "    elif bil == 5:\n",
    "        return \"Lima\"\n",
    "    elif bil == 6:\n",
    "        return \"Enam\"\n",
    "    elif bil == 7:\n",
    "        return \"Tujuh\"\n",
    "    elif bil == 8:\n",
    "        return \"Delapan\"\n",
    "    else:\n",
    "        return \"Sembilan\""
   ]
  },
  {
   "cell_type": "code",
   "execution_count": 50,
   "metadata": {},
   "outputs": [],
   "source": [
    "def sebutkan(angka):\n",
    "    if angka < 10:\n",
    "        return bilangan(angka)\n",
    "    elif angka == 10:\n",
    "        return \"Sepuluh\"\n",
    "    elif angka == 11:\n",
    "        return \"Sebelas\"\n",
    "    elif angka > 11 and angka < 20:\n",
    "        return bilangan(angka%10) + \" belas\"\n",
    "    else:\n",
    "        if angka%10 == 0:\n",
    "            return bilangan(int(angka/10)) + \" puluh\"\n",
    "        else:\n",
    "            return bilangan(int(angka/10)) + \" puluh \"+ bilangan(angka%10)"
   ]
  },
  {
   "cell_type": "code",
   "execution_count": 51,
   "metadata": {},
   "outputs": [
    {
     "data": {
      "text/plain": [
       "'Tujuh puluh'"
      ]
     },
     "execution_count": 51,
     "metadata": {},
     "output_type": "execute_result"
    }
   ],
   "source": [
    "sebutkan(78)"
   ]
  },
  {
   "cell_type": "markdown",
   "metadata": {},
   "source": [
    "# Review Pandas"
   ]
  },
  {
   "cell_type": "code",
   "execution_count": null,
   "metadata": {},
   "outputs": [],
   "source": []
  }
 ],
 "metadata": {
  "kernelspec": {
   "display_name": "Python 3",
   "language": "python",
   "name": "python3"
  },
  "language_info": {
   "codemirror_mode": {
    "name": "ipython",
    "version": 3
   },
   "file_extension": ".py",
   "mimetype": "text/x-python",
   "name": "python",
   "nbconvert_exporter": "python",
   "pygments_lexer": "ipython3",
   "version": "3.6.5"
  }
 },
 "nbformat": 4,
 "nbformat_minor": 2
}
